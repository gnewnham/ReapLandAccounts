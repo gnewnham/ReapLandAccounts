{
 "cells": [
  {
   "cell_type": "markdown",
   "id": "1faf5f42-ffb4-47cb-adae-a0c03134ad33",
   "metadata": {},
   "source": [
    "# MDE REAP Project - Land Accounts <img align=\"right\" src=\"./CSIRO logo.jpg\">\n",
    "\n",
    "##### Authors: Richard Lucas, Sana Khan, Glenn Newnham, Anna Richards, Kristen Williams\n",
    "\n",
    "* **Compatibility:** Notebook currently compatible with the `DEA Sandbox` environment\n",
    "* **Products used:** \n",
    "[ga_ls_landcover_class_cyear_2](https://explorer.sandbox.dea.ga.gov.au/ga_ls_landcover_class_cyear_2)\n"
   ]
  },
  {
   "cell_type": "markdown",
   "id": "05463136-d120-4355-8ed0-0ebc5a9d2903",
   "metadata": {},
   "source": [
    "## Background \n",
    "\n",
    "* Background on REAP\n",
    "* Background on the MDE sub-project\n",
    "* What are land accounts"
   ]
  },
  {
   "cell_type": "markdown",
   "id": "1a2d70d7-90d2-4816-85f5-712550873978",
   "metadata": {},
   "source": [
    "## Description \n",
    "\n",
    "* Update once notebook is complete\n",
    "\n",
    "This notebook will demonstrate how to create a change map using [DEA Land Cover](https://cmi.ga.gov.au/data-products/dea/607/dea-land-cover-landsat) data. \n",
    "Topics include: \n",
    "\n",
    "1. Loading data for an area of interest.\n",
    "2. Plotting a change map using Level 3 data. \n",
    "3. Plotting a change map using layer descriptor data. \n",
    "\n",
    "This notebook requires a basic understanding of the DEA Land Cover data set. \n",
    "If you are new to DEA Land Cover, it is recommended you look at the introductory [DEA Land Cover notebook](../DEA_datasets/DEA_Land_Cover.ipynb) first. \n",
    "\n",
    "***"
   ]
  },
  {
   "cell_type": "markdown",
   "id": "2f8dfa5f-85d8-4f91-93bc-f7b2c0520e3d",
   "metadata": {},
   "source": [
    "### Load packages\n",
    "\n",
    "Load key Python packages and supporting functions for the analysis. "
   ]
  },
  {
   "cell_type": "code",
   "execution_count": 218,
   "id": "3a936118-7f45-41ab-b091-6916a931a29c",
   "metadata": {
    "jupyter": {
     "source_hidden": true
    },
    "tags": []
   },
   "outputs": [],
   "source": [
    "%matplotlib inline\n",
    "\n",
    "import datacube\n",
    "import numpy as np\n",
    "import pandas as pd\n",
    "import xarray as xr\n",
    "import rasterio\n",
    "import geopandas as gpd\n",
    "import matplotlib.pyplot as plt\n",
    "from matplotlib import colors as mcolours\n",
    "\n",
    "import sys, os\n",
    "sys.path.insert(1, os.path.abspath('../Tools'))\n",
    "from dea_tools.plotting import rgb, display_map\n",
    "from dea_tools.landcover import plot_land_cover, lc_colourmap, make_colorbar, lc_animation\n",
    "from datacube.utils.cog import write_cog\n"
   ]
  },
  {
   "cell_type": "code",
   "execution_count": 88,
   "id": "abee7a36-d387-47ae-a081-a6377eebe940",
   "metadata": {
    "jupyter": {
     "source_hidden": true
    },
    "tags": []
   },
   "outputs": [],
   "source": [
    "%run ReapFunctions.py\n",
    "# ReapFunctions.printMe()\n"
   ]
  },
  {
   "cell_type": "markdown",
   "id": "bc3fd3a8-d54e-4b09-ad65-4d703ad1f3a8",
   "metadata": {},
   "source": [
    "### Connect to the datacube\n",
    "Connect to the datacube so we can access DEA data. "
   ]
  },
  {
   "cell_type": "code",
   "execution_count": 89,
   "id": "76f9806d-cce9-44a0-a6e2-c1b0698a411c",
   "metadata": {
    "jupyter": {
     "source_hidden": true
    },
    "tags": []
   },
   "outputs": [],
   "source": [
    "dc = datacube.Datacube(app=\"Land_cover_change_mapping\")"
   ]
  },
  {
   "cell_type": "markdown",
   "id": "b326f586-afc8-4927-b2fc-9affe30f24b5",
   "metadata": {},
   "source": [
    "## Select and view your study area\n",
    "\n",
    "The sahpe file for the MDB is shown below. Coordinates are geographic."
   ]
  },
  {
   "cell_type": "code",
   "execution_count": 90,
   "id": "02ea0e48-2a8c-4a27-b64e-2e322204f581",
   "metadata": {},
   "outputs": [
    {
     "data": {
      "text/plain": [
       "<AxesSubplot:>"
      ]
     },
     "execution_count": 90,
     "metadata": {},
     "output_type": "execute_result"
    },
    {
     "data": {
      "image/png": "[encoded data removed]",
      "text/plain": [
       "<Figure size 432x288 with 1 Axes>"
      ]
     },
     "metadata": {
      "needs_background": "light"
     },
     "output_type": "display_data"
    }
   ],
   "source": [
    "# The MDB is a large study area so we have to be careful how much we read in.\n",
    "\n",
    "shpFilePath = \"./Data/mdb_boundary.shp\"  \n",
    "df=gpd.read_file(shpFilePath)\n",
    "df.plot()\n"
   ]
  },
  {
   "cell_type": "code",
   "execution_count": 188,
   "id": "464709d9-6327-479f-a5ee-473c516f17a3",
   "metadata": {},
   "outputs": [],
   "source": [
    "minx, miny, maxx, maxy = df.geometry.total_bounds\n",
    "\n",
    "# tile size\n",
    "lon_buffer = abs(maxx - minx)/40.0\n",
    "lat_buffer = abs(maxy - miny)/40.0\n",
    "\n",
    "# Define Lat and Long ranges (remember this is very large for the MDB)\n",
    "# be careful at the edge of the bounding box as a tile may be all null\n",
    "nx = 1\n",
    "ny = 6\n",
    "lon_range = (minx+(nx*lon_buffer), minx+((nx+1)*lon_buffer))\n",
    "lat_range = (miny+(ny*lat_buffer), miny+((ny+1)*lat_buffer))\n",
    "\n",
    "# Set the range of dates for the analysis, data exists for 1988-2020\n",
    "time_range = (\"1997\", \"2000\")"
   ]
  },
  {
   "cell_type": "markdown",
   "id": "94c812d6-0ba7-4ae7-9fa3-24ab7a60140c",
   "metadata": {},
   "source": [
    "The following cell will display the area of interest on an interactive map. \n",
    "You can zoom in and out to better understand the area you'll be analysing. "
   ]
  },
  {
   "cell_type": "code",
   "execution_count": 189,
   "id": "2c1c75e7-b3a3-4b8a-bff1-01bfd56fdd3f",
   "metadata": {
    "tags": []
   },
   "outputs": [],
   "source": [
    "# display_map(x=lon_range, y=lat_range)"
   ]
  },
  {
   "cell_type": "markdown",
   "id": "3f8b1a7a-2998-4d77-81c9-241a06be069d",
   "metadata": {},
   "source": [
    "## Load and view `level3` data \n",
    "The following cell will load `level3` data for the `lat_range`, `lon_range` and `time_range` we defined above."
   ]
  },
  {
   "cell_type": "code",
   "execution_count": 216,
   "id": "311d92d3-79b9-4a40-9e0d-7f771aaced81",
   "metadata": {
    "tags": []
   },
   "outputs": [
    {
     "data": {
      "text/html": [
       "<div><svg style=\"position: absolute; width: 0; height: 0; overflow: hidden\">\n",
       "<defs>\n",
       "<symbol id=\"icon-database\" viewBox=\"0 0 32 32\">\n",
       "<path d=\"M16 0c-8.837 0-16 2.239-16 5v4c0 2.761 7.163 5 16 5s16-2.239 16-5v-4c0-2.761-7.163-5-16-5z\"></path>\n",
       "<path d=\"M16 17c-8.837 0-16-2.239-16-5v6c0 2.761 7.163 5 16 5s16-2.239 16-5v-6c0 2.761-7.163 5-16 5z\"></path>\n",
       "<path d=\"M16 26c-8.837 0-16-2.239-16-5v6c0 2.761 7.163 5 16 5s16-2.239 16-5v-6c0 2.761-7.163 5-16 5z\"></path>\n",
       "</symbol>\n",
       "<symbol id=\"icon-file-text2\" viewBox=\"0 0 32 32\">\n",
       "<path d=\"M28.681 7.159c-0.694-0.947-1.662-2.053-2.724-3.116s-2.169-2.030-3.116-2.724c-1.612-1.182-2.393-1.319-2.841-1.319h-15.5c-1.378 0-2.5 1.121-2.5 2.5v27c0 1.378 1.122 2.5 2.5 2.5h23c1.378 0 2.5-1.122 2.5-2.5v-19.5c0-0.448-0.137-1.23-1.319-2.841zM24.543 5.457c0.959 0.959 1.712 1.825 2.268 2.543h-4.811v-4.811c0.718 0.556 1.584 1.309 2.543 2.268zM28 29.5c0 0.271-0.229 0.5-0.5 0.5h-23c-0.271 0-0.5-0.229-0.5-0.5v-27c0-0.271 0.229-0.5 0.5-0.5 0 0 15.499-0 15.5 0v7c0 0.552 0.448 1 1 1h7v19.5z\"></path>\n",
       "<path d=\"M23 26h-14c-0.552 0-1-0.448-1-1s0.448-1 1-1h14c0.552 0 1 0.448 1 1s-0.448 1-1 1z\"></path>\n",
       "<path d=\"M23 22h-14c-0.552 0-1-0.448-1-1s0.448-1 1-1h14c0.552 0 1 0.448 1 1s-0.448 1-1 1z\"></path>\n",
       "<path d=\"M23 18h-14c-0.552 0-1-0.448-1-1s0.448-1 1-1h14c0.552 0 1 0.448 1 1s-0.448 1-1 1z\"></path>\n",
       "</symbol>\n",
       "</defs>\n",
       "</svg>\n",
       "<style>/* CSS stylesheet for displaying xarray objects in jupyterlab.\n",
       " *\n",
       " */\n",
       "\n",
       ":root {\n",
       "  --xr-font-color0: var(--jp-content-font-color0, rgba(0, 0, 0, 1));\n",
       "  --xr-font-color2: var(--jp-content-font-color2, rgba(0, 0, 0, 0.54));\n",
       "  --xr-font-color3: var(--jp-content-font-color3, rgba(0, 0, 0, 0.38));\n",
       "  --xr-border-color: var(--jp-border-color2, #e0e0e0);\n",
       "  --xr-disabled-color: var(--jp-layout-color3, #bdbdbd);\n",
       "  --xr-background-color: var(--jp-layout-color0, white);\n",
       "  --xr-background-color-row-even: var(--jp-layout-color1, white);\n",
       "  --xr-background-color-row-odd: var(--jp-layout-color2, #eeeeee);\n",
       "}\n",
       "\n",
       "html[theme=dark],\n",
       "body.vscode-dark {\n",
       "  --xr-font-color0: rgba(255, 255, 255, 1);\n",
       "  --xr-font-color2: rgba(255, 255, 255, 0.54);\n",
       "  --xr-font-color3: rgba(255, 255, 255, 0.38);\n",
       "  --xr-border-color: #1F1F1F;\n",
       "  --xr-disabled-color: #515151;\n",
       "  --xr-background-color: #111111;\n",
       "  --xr-background-color-row-even: #111111;\n",
       "  --xr-background-color-row-odd: #313131;\n",
       "}\n",
       "\n",
       ".xr-wrap {\n",
       "  display: block !important;\n",
       "  min-width: 300px;\n",
       "  max-width: 700px;\n",
       "}\n",
       "\n",
       ".xr-text-repr-fallback {\n",
       "  /* fallback to plain text repr when CSS is not injected (untrusted notebook) */\n",
       "  display: none;\n",
       "}\n",
       "\n",
       ".xr-header {\n",
       "  padding-top: 6px;\n",
       "  padding-bottom: 6px;\n",
       "  margin-bottom: 4px;\n",
       "  border-bottom: solid 1px var(--xr-border-color);\n",
       "}\n",
       "\n",
       ".xr-header > div,\n",
       ".xr-header > ul {\n",
       "  display: inline;\n",
       "  margin-top: 0;\n",
       "  margin-bottom: 0;\n",
       "}\n",
       "\n",
       ".xr-obj-type,\n",
       ".xr-array-name {\n",
       "  margin-left: 2px;\n",
       "  margin-right: 10px;\n",
       "}\n",
       "\n",
       ".xr-obj-type {\n",
       "  color: var(--xr-font-color2);\n",
       "}\n",
       "\n",
       ".xr-sections {\n",
       "  padding-left: 0 !important;\n",
       "  display: grid;\n",
       "  grid-template-columns: 150px auto auto 1fr 20px 20px;\n",
       "}\n",
       "\n",
       ".xr-section-item {\n",
       "  display: contents;\n",
       "}\n",
       "\n",
       ".xr-section-item input {\n",
       "  display: none;\n",
       "}\n",
       "\n",
       ".xr-section-item input + label {\n",
       "  color: var(--xr-disabled-color);\n",
       "}\n",
       "\n",
       ".xr-section-item input:enabled + label {\n",
       "  cursor: pointer;\n",
       "  color: var(--xr-font-color2);\n",
       "}\n",
       "\n",
       ".xr-section-item input:enabled + label:hover {\n",
       "  color: var(--xr-font-color0);\n",
       "}\n",
       "\n",
       ".xr-section-summary {\n",
       "  grid-column: 1;\n",
       "  color: var(--xr-font-color2);\n",
       "  font-weight: 500;\n",
       "}\n",
       "\n",
       ".xr-section-summary > span {\n",
       "  display: inline-block;\n",
       "  padding-left: 0.5em;\n",
       "}\n",
       "\n",
       ".xr-section-summary-in:disabled + label {\n",
       "  color: var(--xr-font-color2);\n",
       "}\n",
       "\n",
       ".xr-section-summary-in + label:before {\n",
       "  display: inline-block;\n",
       "  content: '►';\n",
       "  font-size: 11px;\n",
       "  width: 15px;\n",
       "  text-align: center;\n",
       "}\n",
       "\n",
       ".xr-section-summary-in:disabled + label:before {\n",
       "  color: var(--xr-disabled-color);\n",
       "}\n",
       "\n",
       ".xr-section-summary-in:checked + label:before {\n",
       "  content: '▼';\n",
       "}\n",
       "\n",
       ".xr-section-summary-in:checked + label > span {\n",
       "  display: none;\n",
       "}\n",
       "\n",
       ".xr-section-summary,\n",
       ".xr-section-inline-details {\n",
       "  padding-top: 4px;\n",
       "  padding-bottom: 4px;\n",
       "}\n",
       "\n",
       ".xr-section-inline-details {\n",
       "  grid-column: 2 / -1;\n",
       "}\n",
       "\n",
       ".xr-section-details {\n",
       "  display: none;\n",
       "  grid-column: 1 / -1;\n",
       "  margin-bottom: 5px;\n",
       "}\n",
       "\n",
       ".xr-section-summary-in:checked ~ .xr-section-details {\n",
       "  display: contents;\n",
       "}\n",
       "\n",
       ".xr-array-wrap {\n",
       "  grid-column: 1 / -1;\n",
       "  display: grid;\n",
       "  grid-template-columns: 20px auto;\n",
       "}\n",
       "\n",
       ".xr-array-wrap > label {\n",
       "  grid-column: 1;\n",
       "  vertical-align: top;\n",
       "}\n",
       "\n",
       ".xr-preview {\n",
       "  color: var(--xr-font-color3);\n",
       "}\n",
       "\n",
       ".xr-array-preview,\n",
       ".xr-array-data {\n",
       "  padding: 0 5px !important;\n",
       "  grid-column: 2;\n",
       "}\n",
       "\n",
       ".xr-array-data,\n",
       ".xr-array-in:checked ~ .xr-array-preview {\n",
       "  display: none;\n",
       "}\n",
       "\n",
       ".xr-array-in:checked ~ .xr-array-data,\n",
       ".xr-array-preview {\n",
       "  display: inline-block;\n",
       "}\n",
       "\n",
       ".xr-dim-list {\n",
       "  display: inline-block !important;\n",
       "  list-style: none;\n",
       "  padding: 0 !important;\n",
       "  margin: 0;\n",
       "}\n",
       "\n",
       ".xr-dim-list li {\n",
       "  display: inline-block;\n",
       "  padding: 0;\n",
       "  margin: 0;\n",
       "}\n",
       "\n",
       ".xr-dim-list:before {\n",
       "  content: '(';\n",
       "}\n",
       "\n",
       ".xr-dim-list:after {\n",
       "  content: ')';\n",
       "}\n",
       "\n",
       ".xr-dim-list li:not(:last-child):after {\n",
       "  content: ',';\n",
       "  padding-right: 5px;\n",
       "}\n",
       "\n",
       ".xr-has-index {\n",
       "  font-weight: bold;\n",
       "}\n",
       "\n",
       ".xr-var-list,\n",
       ".xr-var-item {\n",
       "  display: contents;\n",
       "}\n",
       "\n",
       ".xr-var-item > div,\n",
       ".xr-var-item label,\n",
       ".xr-var-item > .xr-var-name span {\n",
       "  background-color: var(--xr-background-color-row-even);\n",
       "  margin-bottom: 0;\n",
       "}\n",
       "\n",
       ".xr-var-item > .xr-var-name:hover span {\n",
       "  padding-right: 5px;\n",
       "}\n",
       "\n",
       ".xr-var-list > li:nth-child(odd) > div,\n",
       ".xr-var-list > li:nth-child(odd) > label,\n",
       ".xr-var-list > li:nth-child(odd) > .xr-var-name span {\n",
       "  background-color: var(--xr-background-color-row-odd);\n",
       "}\n",
       "\n",
       ".xr-var-name {\n",
       "  grid-column: 1;\n",
       "}\n",
       "\n",
       ".xr-var-dims {\n",
       "  grid-column: 2;\n",
       "}\n",
       "\n",
       ".xr-var-dtype {\n",
       "  grid-column: 3;\n",
       "  text-align: right;\n",
       "  color: var(--xr-font-color2);\n",
       "}\n",
       "\n",
       ".xr-var-preview {\n",
       "  grid-column: 4;\n",
       "}\n",
       "\n",
       ".xr-var-name,\n",
       ".xr-var-dims,\n",
       ".xr-var-dtype,\n",
       ".xr-preview,\n",
       ".xr-attrs dt {\n",
       "  white-space: nowrap;\n",
       "  overflow: hidden;\n",
       "  text-overflow: ellipsis;\n",
       "  padding-right: 10px;\n",
       "}\n",
       "\n",
       ".xr-var-name:hover,\n",
       ".xr-var-dims:hover,\n",
       ".xr-var-dtype:hover,\n",
       ".xr-attrs dt:hover {\n",
       "  overflow: visible;\n",
       "  width: auto;\n",
       "  z-index: 1;\n",
       "}\n",
       "\n",
       ".xr-var-attrs,\n",
       ".xr-var-data {\n",
       "  display: none;\n",
       "  background-color: var(--xr-background-color) !important;\n",
       "  padding-bottom: 5px !important;\n",
       "}\n",
       "\n",
       ".xr-var-attrs-in:checked ~ .xr-var-attrs,\n",
       ".xr-var-data-in:checked ~ .xr-var-data {\n",
       "  display: block;\n",
       "}\n",
       "\n",
       ".xr-var-data > table {\n",
       "  float: right;\n",
       "}\n",
       "\n",
       ".xr-var-name span,\n",
       ".xr-var-data,\n",
       ".xr-attrs {\n",
       "  padding-left: 25px !important;\n",
       "}\n",
       "\n",
       ".xr-attrs,\n",
       ".xr-var-attrs,\n",
       ".xr-var-data {\n",
       "  grid-column: 1 / -1;\n",
       "}\n",
       "\n",
       "dl.xr-attrs {\n",
       "  padding: 0;\n",
       "  margin: 0;\n",
       "  display: grid;\n",
       "  grid-template-columns: 125px auto;\n",
       "}\n",
       "\n",
       ".xr-attrs dt,\n",
       ".xr-attrs dd {\n",
       "  padding: 0;\n",
       "  margin: 0;\n",
       "  float: left;\n",
       "  padding-right: 10px;\n",
       "  width: auto;\n",
       "}\n",
       "\n",
       ".xr-attrs dt {\n",
       "  font-weight: normal;\n",
       "  grid-column: 1;\n",
       "}\n",
       "\n",
       ".xr-attrs dt:hover span {\n",
       "  display: inline-block;\n",
       "  background: var(--xr-background-color);\n",
       "  padding-right: 10px;\n",
       "}\n",
       "\n",
       ".xr-attrs dd {\n",
       "  grid-column: 2;\n",
       "  white-space: pre-wrap;\n",
       "  word-break: break-all;\n",
       "}\n",
       "\n",
       ".xr-icon-database,\n",
       ".xr-icon-file-text2 {\n",
       "  display: inline-block;\n",
       "  vertical-align: middle;\n",
       "  width: 1em;\n",
       "  height: 1.5em !important;\n",
       "  stroke-width: 0;\n",
       "  stroke: currentColor;\n",
       "  fill: currentColor;\n",
       "}\n",
       "</style><pre class='xr-text-repr-fallback'>&lt;xarray.Dataset&gt;\n",
       "Dimensions:              (time: 4, y: 1523, x: 1340)\n",
       "Coordinates:\n",
       "  * time                 (time) datetime64[ns] 1997-01-01 ... 2000-01-01\n",
       "  * y                    (y) float64 -3.882e+06 -3.883e+06 ... -3.921e+06\n",
       "  * x                    (x) float64 6.25e+05 6.25e+05 ... 6.585e+05 6.585e+05\n",
       "    spatial_ref          int32 3577\n",
       "Data variables:\n",
       "    level3               (time, y, x) uint8 112 111 112 112 ... 111 111 111 111\n",
       "    lifeform             (time, y, x) uint8 2 2 2 2 2 2 2 2 ... 2 2 2 2 2 2 2 2\n",
       "    vegetation_cover     (time, y, x) uint8 13 13 13 13 13 13 ... 10 10 10 10 10\n",
       "    water_seasonality    (time, y, x) uint8 0 0 0 0 0 0 0 0 ... 0 0 0 0 0 0 0 0\n",
       "    water_state          (time, y, x) uint8 0 0 0 0 0 0 0 0 ... 0 0 0 0 0 0 0 0\n",
       "    intertidal           (time, y, x) uint8 0 0 0 0 0 0 0 0 ... 0 0 0 0 0 0 0 0\n",
       "    water_persistence    (time, y, x) uint8 0 0 0 0 0 0 0 0 ... 0 0 0 0 0 0 0 0\n",
       "    bare_gradation       (time, y, x) uint8 0 0 0 0 0 0 0 0 ... 0 0 0 0 0 0 0 0\n",
       "    full_classification  (time, y, x) uint8 34 16 34 34 16 34 ... 14 14 14 14 14\n",
       "Attributes:\n",
       "    crs:           EPSG:3577\n",
       "    grid_mapping:  spatial_ref</pre><div class='xr-wrap' style='display:none'><div class='xr-header'><div class='xr-obj-type'>xarray.Dataset</div></div><ul class='xr-sections'><li class='xr-section-item'><input id='section-9ab9c068-dd55-41a5-92b6-f84109f377cb' class='xr-section-summary-in' type='checkbox' disabled ><label for='section-9ab9c068-dd55-41a5-92b6-f84109f377cb' class='xr-section-summary'  title='Expand/collapse section'>Dimensions:</label><div class='xr-section-inline-details'><ul class='xr-dim-list'><li><span class='xr-has-index'>time</span>: 4</li><li><span class='xr-has-index'>y</span>: 1523</li><li><span class='xr-has-index'>x</span>: 1340</li></ul></div><div class='xr-section-details'></div></li><li class='xr-section-item'><input id='section-a6818a5e-def1-4b5f-bbfa-cbdfbb59e4d0' class='xr-section-summary-in' type='checkbox'  checked><label for='section-a6818a5e-def1-4b5f-bbfa-cbdfbb59e4d0' class='xr-section-summary' >Coordinates: <span>(4)</span></label><div class='xr-section-inline-details'></div><div class='xr-section-details'><ul class='xr-var-list'><li class='xr-var-item'><div class='xr-var-name'><span class='xr-has-index'>time</span></div><div class='xr-var-dims'>(time)</div><div class='xr-var-dtype'>datetime64[ns]</div><div class='xr-var-preview xr-preview'>1997-01-01 ... 2000-01-01</div><input id='attrs-c9feb8c3-8db6-464e-9ad0-9b6e7e585377' class='xr-var-attrs-in' type='checkbox' ><label for='attrs-c9feb8c3-8db6-464e-9ad0-9b6e7e585377' title='Show/Hide attributes'><svg class='icon xr-icon-file-text2'><use xlink:href='#icon-file-text2'></use></svg></label><input id='data-99076066-2eb0-4701-a785-6d57cbb819b6' class='xr-var-data-in' type='checkbox'><label for='data-99076066-2eb0-4701-a785-6d57cbb819b6' title='Show/Hide data repr'><svg class='icon xr-icon-database'><use xlink:href='#icon-database'></use></svg></label><div class='xr-var-attrs'><dl class='xr-attrs'><dt><span>units :</span></dt><dd>seconds since 1970-01-01 00:00:00</dd></dl></div><div class='xr-var-data'><pre>array([&#x27;1997-01-01T00:00:00.000000000&#x27;, &#x27;1998-01-01T00:00:00.000000000&#x27;,\n",
       "       &#x27;1999-01-01T00:00:00.000000000&#x27;, &#x27;2000-01-01T00:00:00.000000000&#x27;],\n",
       "      dtype=&#x27;datetime64[ns]&#x27;)</pre></div></li><li class='xr-var-item'><div class='xr-var-name'><span class='xr-has-index'>y</span></div><div class='xr-var-dims'>(y)</div><div class='xr-var-dtype'>float64</div><div class='xr-var-preview xr-preview'>-3.882e+06 ... -3.921e+06</div><input id='attrs-7767652a-54b4-4913-8620-4df245713e66' class='xr-var-attrs-in' type='checkbox' ><label for='attrs-7767652a-54b4-4913-8620-4df245713e66' title='Show/Hide attributes'><svg class='icon xr-icon-file-text2'><use xlink:href='#icon-file-text2'></use></svg></label><input id='data-98a63aed-25a9-4969-aea5-a0d7eeddab3d' class='xr-var-data-in' type='checkbox'><label for='data-98a63aed-25a9-4969-aea5-a0d7eeddab3d' title='Show/Hide data repr'><svg class='icon xr-icon-database'><use xlink:href='#icon-database'></use></svg></label><div class='xr-var-attrs'><dl class='xr-attrs'><dt><span>units :</span></dt><dd>metre</dd><dt><span>resolution :</span></dt><dd>-25.0</dd><dt><span>crs :</span></dt><dd>EPSG:3577</dd></dl></div><div class='xr-var-data'><pre>array([-3882487.5, -3882512.5, -3882537.5, ..., -3920487.5, -3920512.5,\n",
       "       -3920537.5])</pre></div></li><li class='xr-var-item'><div class='xr-var-name'><span class='xr-has-index'>x</span></div><div class='xr-var-dims'>(x)</div><div class='xr-var-dtype'>float64</div><div class='xr-var-preview xr-preview'>6.25e+05 6.25e+05 ... 6.585e+05</div><input id='attrs-c27a0d0c-8cfa-49d4-aa4f-e8163b76a954' class='xr-var-attrs-in' type='checkbox' ><label for='attrs-c27a0d0c-8cfa-49d4-aa4f-e8163b76a954' title='Show/Hide attributes'><svg class='icon xr-icon-file-text2'><use xlink:href='#icon-file-text2'></use></svg></label><input id='data-0ce12344-74a7-41e6-91d4-9eaf5f5a686b' class='xr-var-data-in' type='checkbox'><label for='data-0ce12344-74a7-41e6-91d4-9eaf5f5a686b' title='Show/Hide data repr'><svg class='icon xr-icon-database'><use xlink:href='#icon-database'></use></svg></label><div class='xr-var-attrs'><dl class='xr-attrs'><dt><span>units :</span></dt><dd>metre</dd><dt><span>resolution :</span></dt><dd>25.0</dd><dt><span>crs :</span></dt><dd>EPSG:3577</dd></dl></div><div class='xr-var-data'><pre>array([625012.5, 625037.5, 625062.5, ..., 658437.5, 658462.5, 658487.5])</pre></div></li><li class='xr-var-item'><div class='xr-var-name'><span>spatial_ref</span></div><div class='xr-var-dims'>()</div><div class='xr-var-dtype'>int32</div><div class='xr-var-preview xr-preview'>3577</div><input id='attrs-b6893daa-f5a0-486c-9a7d-bfa0453dffea' class='xr-var-attrs-in' type='checkbox' ><label for='attrs-b6893daa-f5a0-486c-9a7d-bfa0453dffea' title='Show/Hide attributes'><svg class='icon xr-icon-file-text2'><use xlink:href='#icon-file-text2'></use></svg></label><input id='data-3734de0d-47a4-436b-b879-7330e36aee73' class='xr-var-data-in' type='checkbox'><label for='data-3734de0d-47a4-436b-b879-7330e36aee73' title='Show/Hide data repr'><svg class='icon xr-icon-database'><use xlink:href='#icon-database'></use></svg></label><div class='xr-var-attrs'><dl class='xr-attrs'><dt><span>spatial_ref :</span></dt><dd>PROJCS[&quot;GDA94 / Australian Albers&quot;,GEOGCS[&quot;GDA94&quot;,DATUM[&quot;Geocentric_Datum_of_Australia_1994&quot;,SPHEROID[&quot;GRS 1980&quot;,6378137,298.257222101,AUTHORITY[&quot;EPSG&quot;,&quot;7019&quot;]],AUTHORITY[&quot;EPSG&quot;,&quot;6283&quot;]],PRIMEM[&quot;Greenwich&quot;,0,AUTHORITY[&quot;EPSG&quot;,&quot;8901&quot;]],UNIT[&quot;degree&quot;,0.0174532925199433,AUTHORITY[&quot;EPSG&quot;,&quot;9122&quot;]],AUTHORITY[&quot;EPSG&quot;,&quot;4283&quot;]],PROJECTION[&quot;Albers_Conic_Equal_Area&quot;],PARAMETER[&quot;latitude_of_center&quot;,0],PARAMETER[&quot;longitude_of_center&quot;,132],PARAMETER[&quot;standard_parallel_1&quot;,-18],PARAMETER[&quot;standard_parallel_2&quot;,-36],PARAMETER[&quot;false_easting&quot;,0],PARAMETER[&quot;false_northing&quot;,0],UNIT[&quot;metre&quot;,1,AUTHORITY[&quot;EPSG&quot;,&quot;9001&quot;]],AXIS[&quot;Easting&quot;,EAST],AXIS[&quot;Northing&quot;,NORTH],AUTHORITY[&quot;EPSG&quot;,&quot;3577&quot;]]</dd><dt><span>grid_mapping_name :</span></dt><dd>albers_conical_equal_area</dd></dl></div><div class='xr-var-data'><pre>array(3577, dtype=int32)</pre></div></li></ul></div></li><li class='xr-section-item'><input id='section-883f4d10-5f81-489b-ad32-800e86d0c6df' class='xr-section-summary-in' type='checkbox'  checked><label for='section-883f4d10-5f81-489b-ad32-800e86d0c6df' class='xr-section-summary' >Data variables: <span>(9)</span></label><div class='xr-section-inline-details'></div><div class='xr-section-details'><ul class='xr-var-list'><li class='xr-var-item'><div class='xr-var-name'><span>level3</span></div><div class='xr-var-dims'>(time, y, x)</div><div class='xr-var-dtype'>uint8</div><div class='xr-var-preview xr-preview'>112 111 112 112 ... 111 111 111 111</div><input id='attrs-9a11e4f8-9805-4b06-a05d-b3b1f3bcd444' class='xr-var-attrs-in' type='checkbox' ><label for='attrs-9a11e4f8-9805-4b06-a05d-b3b1f3bcd444' title='Show/Hide attributes'><svg class='icon xr-icon-file-text2'><use xlink:href='#icon-file-text2'></use></svg></label><input id='data-b7b1c5d2-8749-4915-91fb-3b86050e92c4' class='xr-var-data-in' type='checkbox'><label for='data-b7b1c5d2-8749-4915-91fb-3b86050e92c4' title='Show/Hide data repr'><svg class='icon xr-icon-database'><use xlink:href='#icon-database'></use></svg></label><div class='xr-var-attrs'><dl class='xr-attrs'><dt><span>units :</span></dt><dd>1</dd><dt><span>nodata :</span></dt><dd>0</dd><dt><span>crs :</span></dt><dd>EPSG:3577</dd><dt><span>grid_mapping :</span></dt><dd>spatial_ref</dd></dl></div><div class='xr-var-data'><pre>array([[[112, 111, 112, ..., 220, 220, 220],\n",
       "        [112, 112, 112, ..., 220, 220, 220],\n",
       "        [112, 112, 112, ..., 220, 220, 220],\n",
       "        ...,\n",
       "        [  0,   0,   0, ..., 111, 111, 111],\n",
       "        [  0,   0,   0, ..., 111, 111, 111],\n",
       "        [  0,   0,   0, ..., 111, 111, 111]],\n",
       "\n",
       "       [[112, 112, 112, ..., 220, 220, 220],\n",
       "        [112, 112, 112, ..., 220, 220, 220],\n",
       "        [112, 112, 112, ..., 220, 220, 220],\n",
       "        ...,\n",
       "        [220, 220, 220, ..., 111, 111, 111],\n",
       "        [220, 220, 220, ..., 111, 111, 111],\n",
       "        [220, 220, 220, ..., 111, 111, 111]],\n",
       "\n",
       "       [[112, 112, 112, ..., 220, 220, 220],\n",
       "        [112, 112, 112, ..., 220, 220, 220],\n",
       "        [112, 112, 112, ..., 220, 220, 220],\n",
       "        ...,\n",
       "        [220, 220, 220, ..., 111, 111, 111],\n",
       "        [220, 220, 220, ..., 111, 111, 111],\n",
       "        [220, 220, 220, ..., 111, 111, 111]],\n",
       "\n",
       "       [[111, 112, 112, ..., 220, 220, 220],\n",
       "        [112, 112, 112, ..., 220, 220, 220],\n",
       "        [112, 112, 112, ..., 220, 220, 220],\n",
       "        ...,\n",
       "        [220, 220, 220, ..., 111, 111, 111],\n",
       "        [220, 220, 220, ..., 111, 111, 111],\n",
       "        [220, 220, 220, ..., 111, 111, 111]]], dtype=uint8)</pre></div></li><li class='xr-var-item'><div class='xr-var-name'><span>lifeform</span></div><div class='xr-var-dims'>(time, y, x)</div><div class='xr-var-dtype'>uint8</div><div class='xr-var-preview xr-preview'>2 2 2 2 2 2 2 2 ... 2 2 2 2 2 2 2 2</div><input id='attrs-f65a0c22-024d-41c7-9c13-2d2980115f1f' class='xr-var-attrs-in' type='checkbox' ><label for='attrs-f65a0c22-024d-41c7-9c13-2d2980115f1f' title='Show/Hide attributes'><svg class='icon xr-icon-file-text2'><use xlink:href='#icon-file-text2'></use></svg></label><input id='data-98694700-e2ff-49d9-9499-ee0f7f5e89bb' class='xr-var-data-in' type='checkbox'><label for='data-98694700-e2ff-49d9-9499-ee0f7f5e89bb' title='Show/Hide data repr'><svg class='icon xr-icon-database'><use xlink:href='#icon-database'></use></svg></label><div class='xr-var-attrs'><dl class='xr-attrs'><dt><span>units :</span></dt><dd>1</dd><dt><span>nodata :</span></dt><dd>0</dd><dt><span>crs :</span></dt><dd>EPSG:3577</dd><dt><span>grid_mapping :</span></dt><dd>spatial_ref</dd></dl></div><div class='xr-var-data'><pre>array([[[2, 2, 2, ..., 0, 0, 0],\n",
       "        [2, 2, 2, ..., 0, 0, 0],\n",
       "        [2, 2, 2, ..., 0, 0, 0],\n",
       "        ...,\n",
       "        [0, 0, 0, ..., 2, 2, 2],\n",
       "        [0, 0, 0, ..., 2, 2, 2],\n",
       "        [0, 0, 0, ..., 2, 2, 2]],\n",
       "\n",
       "       [[2, 2, 2, ..., 0, 0, 0],\n",
       "        [2, 2, 2, ..., 0, 0, 0],\n",
       "        [2, 2, 2, ..., 0, 0, 0],\n",
       "        ...,\n",
       "        [0, 0, 0, ..., 2, 2, 2],\n",
       "        [0, 0, 0, ..., 2, 2, 2],\n",
       "        [0, 0, 0, ..., 2, 2, 2]],\n",
       "\n",
       "       [[2, 2, 2, ..., 0, 0, 0],\n",
       "        [2, 2, 2, ..., 0, 0, 0],\n",
       "        [2, 2, 2, ..., 0, 0, 0],\n",
       "        ...,\n",
       "        [0, 0, 0, ..., 2, 2, 2],\n",
       "        [0, 0, 0, ..., 2, 2, 2],\n",
       "        [0, 0, 0, ..., 2, 2, 2]],\n",
       "\n",
       "       [[2, 2, 2, ..., 0, 0, 0],\n",
       "        [2, 2, 2, ..., 0, 0, 0],\n",
       "        [2, 2, 2, ..., 0, 0, 0],\n",
       "        ...,\n",
       "        [0, 0, 0, ..., 2, 2, 2],\n",
       "        [0, 0, 0, ..., 2, 2, 2],\n",
       "        [0, 0, 0, ..., 2, 2, 2]]], dtype=uint8)</pre></div></li><li class='xr-var-item'><div class='xr-var-name'><span>vegetation_cover</span></div><div class='xr-var-dims'>(time, y, x)</div><div class='xr-var-dtype'>uint8</div><div class='xr-var-preview xr-preview'>13 13 13 13 13 ... 10 10 10 10 10</div><input id='attrs-1e24b0c9-2b6e-4d89-aa69-1f83f8ab3585' class='xr-var-attrs-in' type='checkbox' ><label for='attrs-1e24b0c9-2b6e-4d89-aa69-1f83f8ab3585' title='Show/Hide attributes'><svg class='icon xr-icon-file-text2'><use xlink:href='#icon-file-text2'></use></svg></label><input id='data-47d24b5c-45d8-4032-a038-7799c0e1b4e9' class='xr-var-data-in' type='checkbox'><label for='data-47d24b5c-45d8-4032-a038-7799c0e1b4e9' title='Show/Hide data repr'><svg class='icon xr-icon-database'><use xlink:href='#icon-database'></use></svg></label><div class='xr-var-attrs'><dl class='xr-attrs'><dt><span>units :</span></dt><dd>1</dd><dt><span>nodata :</span></dt><dd>0</dd><dt><span>crs :</span></dt><dd>EPSG:3577</dd><dt><span>grid_mapping :</span></dt><dd>spatial_ref</dd></dl></div><div class='xr-var-data'><pre>array([[[13, 13, 13, ...,  0,  0,  0],\n",
       "        [13, 13, 13, ...,  0,  0,  0],\n",
       "        [13, 13, 13, ...,  0,  0,  0],\n",
       "        ...,\n",
       "        [ 0,  0,  0, ..., 10, 10, 10],\n",
       "        [ 0,  0,  0, ..., 10, 10, 10],\n",
       "        [ 0,  0,  0, ..., 10, 10, 10]],\n",
       "\n",
       "       [[13, 13, 13, ...,  0,  0,  0],\n",
       "        [13, 13, 13, ...,  0,  0,  0],\n",
       "        [13, 13, 13, ...,  0,  0,  0],\n",
       "        ...,\n",
       "        [ 0,  0,  0, ..., 10, 10, 10],\n",
       "        [ 0,  0,  0, ..., 12, 12, 12],\n",
       "        [ 0,  0,  0, ..., 10, 12, 12]],\n",
       "\n",
       "       [[13, 13, 13, ...,  0,  0,  0],\n",
       "        [13, 13, 13, ...,  0,  0,  0],\n",
       "        [13, 13, 13, ...,  0,  0,  0],\n",
       "        ...,\n",
       "        [ 0,  0,  0, ..., 10, 10, 10],\n",
       "        [ 0,  0,  0, ..., 10, 10, 10],\n",
       "        [ 0,  0,  0, ..., 10, 10, 10]],\n",
       "\n",
       "       [[13, 13, 13, ...,  0,  0,  0],\n",
       "        [13, 13, 13, ...,  0,  0,  0],\n",
       "        [13, 13, 13, ...,  0,  0,  0],\n",
       "        ...,\n",
       "        [ 0,  0,  0, ..., 10, 10, 10],\n",
       "        [ 0,  0,  0, ..., 10, 10, 10],\n",
       "        [ 0,  0,  0, ..., 10, 10, 10]]], dtype=uint8)</pre></div></li><li class='xr-var-item'><div class='xr-var-name'><span>water_seasonality</span></div><div class='xr-var-dims'>(time, y, x)</div><div class='xr-var-dtype'>uint8</div><div class='xr-var-preview xr-preview'>0 0 0 0 0 0 0 0 ... 0 0 0 0 0 0 0 0</div><input id='attrs-25bb48fe-2db2-49db-8638-1da5e61a5e67' class='xr-var-attrs-in' type='checkbox' ><label for='attrs-25bb48fe-2db2-49db-8638-1da5e61a5e67' title='Show/Hide attributes'><svg class='icon xr-icon-file-text2'><use xlink:href='#icon-file-text2'></use></svg></label><input id='data-620768c2-d38d-44fe-b231-a7bb1f84c775' class='xr-var-data-in' type='checkbox'><label for='data-620768c2-d38d-44fe-b231-a7bb1f84c775' title='Show/Hide data repr'><svg class='icon xr-icon-database'><use xlink:href='#icon-database'></use></svg></label><div class='xr-var-attrs'><dl class='xr-attrs'><dt><span>units :</span></dt><dd>1</dd><dt><span>nodata :</span></dt><dd>0</dd><dt><span>crs :</span></dt><dd>EPSG:3577</dd><dt><span>grid_mapping :</span></dt><dd>spatial_ref</dd></dl></div><div class='xr-var-data'><pre>array([[[0, 0, 0, ..., 0, 0, 0],\n",
       "        [0, 0, 0, ..., 0, 0, 0],\n",
       "        [0, 0, 0, ..., 0, 0, 0],\n",
       "        ...,\n",
       "        [0, 0, 0, ..., 0, 0, 0],\n",
       "        [0, 0, 0, ..., 0, 0, 0],\n",
       "        [0, 0, 0, ..., 0, 0, 0]],\n",
       "\n",
       "       [[0, 0, 0, ..., 0, 0, 0],\n",
       "        [0, 0, 0, ..., 0, 0, 0],\n",
       "        [0, 0, 0, ..., 0, 0, 0],\n",
       "        ...,\n",
       "        [0, 0, 0, ..., 0, 0, 0],\n",
       "        [0, 0, 0, ..., 0, 0, 0],\n",
       "        [0, 0, 0, ..., 0, 0, 0]],\n",
       "\n",
       "       [[0, 0, 0, ..., 0, 0, 0],\n",
       "        [0, 0, 0, ..., 0, 0, 0],\n",
       "        [0, 0, 0, ..., 0, 0, 0],\n",
       "        ...,\n",
       "        [0, 0, 0, ..., 0, 0, 0],\n",
       "        [0, 0, 0, ..., 0, 0, 0],\n",
       "        [0, 0, 0, ..., 0, 0, 0]],\n",
       "\n",
       "       [[0, 0, 0, ..., 0, 0, 0],\n",
       "        [0, 0, 0, ..., 0, 0, 0],\n",
       "        [0, 0, 0, ..., 0, 0, 0],\n",
       "        ...,\n",
       "        [0, 0, 0, ..., 0, 0, 0],\n",
       "        [0, 0, 0, ..., 0, 0, 0],\n",
       "        [0, 0, 0, ..., 0, 0, 0]]], dtype=uint8)</pre></div></li><li class='xr-var-item'><div class='xr-var-name'><span>water_state</span></div><div class='xr-var-dims'>(time, y, x)</div><div class='xr-var-dtype'>uint8</div><div class='xr-var-preview xr-preview'>0 0 0 0 0 0 0 0 ... 0 0 0 0 0 0 0 0</div><input id='attrs-7bf44c82-3582-4bd7-aef4-c98e4b53dc3c' class='xr-var-attrs-in' type='checkbox' ><label for='attrs-7bf44c82-3582-4bd7-aef4-c98e4b53dc3c' title='Show/Hide attributes'><svg class='icon xr-icon-file-text2'><use xlink:href='#icon-file-text2'></use></svg></label><input id='data-b98e6b55-1c8d-4764-a087-0db941b11db5' class='xr-var-data-in' type='checkbox'><label for='data-b98e6b55-1c8d-4764-a087-0db941b11db5' title='Show/Hide data repr'><svg class='icon xr-icon-database'><use xlink:href='#icon-database'></use></svg></label><div class='xr-var-attrs'><dl class='xr-attrs'><dt><span>units :</span></dt><dd>1</dd><dt><span>nodata :</span></dt><dd>0</dd><dt><span>crs :</span></dt><dd>EPSG:3577</dd><dt><span>grid_mapping :</span></dt><dd>spatial_ref</dd></dl></div><div class='xr-var-data'><pre>array([[[0, 0, 0, ..., 1, 1, 1],\n",
       "        [0, 0, 0, ..., 1, 1, 1],\n",
       "        [0, 0, 0, ..., 1, 1, 1],\n",
       "        ...,\n",
       "        [0, 0, 0, ..., 0, 0, 0],\n",
       "        [0, 0, 0, ..., 0, 0, 0],\n",
       "        [0, 0, 0, ..., 0, 0, 0]],\n",
       "\n",
       "       [[0, 0, 0, ..., 1, 1, 1],\n",
       "        [0, 0, 0, ..., 1, 1, 1],\n",
       "        [0, 0, 0, ..., 1, 1, 1],\n",
       "        ...,\n",
       "        [1, 1, 1, ..., 0, 0, 0],\n",
       "        [1, 1, 1, ..., 0, 0, 0],\n",
       "        [1, 1, 1, ..., 0, 0, 0]],\n",
       "\n",
       "       [[0, 0, 0, ..., 1, 1, 1],\n",
       "        [0, 0, 0, ..., 1, 1, 1],\n",
       "        [0, 0, 0, ..., 1, 1, 1],\n",
       "        ...,\n",
       "        [1, 1, 1, ..., 0, 0, 0],\n",
       "        [1, 1, 1, ..., 0, 0, 0],\n",
       "        [1, 1, 1, ..., 0, 0, 0]],\n",
       "\n",
       "       [[0, 0, 0, ..., 1, 1, 1],\n",
       "        [0, 0, 0, ..., 1, 1, 1],\n",
       "        [0, 0, 0, ..., 1, 1, 1],\n",
       "        ...,\n",
       "        [1, 1, 1, ..., 0, 0, 0],\n",
       "        [1, 1, 1, ..., 0, 0, 0],\n",
       "        [1, 1, 1, ..., 0, 0, 0]]], dtype=uint8)</pre></div></li><li class='xr-var-item'><div class='xr-var-name'><span>intertidal</span></div><div class='xr-var-dims'>(time, y, x)</div><div class='xr-var-dtype'>uint8</div><div class='xr-var-preview xr-preview'>0 0 0 0 0 0 0 0 ... 0 0 0 0 0 0 0 0</div><input id='attrs-0ca18c11-dc22-44a6-8be3-0d7854053af1' class='xr-var-attrs-in' type='checkbox' ><label for='attrs-0ca18c11-dc22-44a6-8be3-0d7854053af1' title='Show/Hide attributes'><svg class='icon xr-icon-file-text2'><use xlink:href='#icon-file-text2'></use></svg></label><input id='data-764af44f-03e5-449b-88ec-a569637d916e' class='xr-var-data-in' type='checkbox'><label for='data-764af44f-03e5-449b-88ec-a569637d916e' title='Show/Hide data repr'><svg class='icon xr-icon-database'><use xlink:href='#icon-database'></use></svg></label><div class='xr-var-attrs'><dl class='xr-attrs'><dt><span>units :</span></dt><dd>1</dd><dt><span>nodata :</span></dt><dd>0</dd><dt><span>crs :</span></dt><dd>EPSG:3577</dd><dt><span>grid_mapping :</span></dt><dd>spatial_ref</dd></dl></div><div class='xr-var-data'><pre>array([[[0, 0, 0, ..., 0, 0, 0],\n",
       "        [0, 0, 0, ..., 0, 0, 0],\n",
       "        [0, 0, 0, ..., 0, 0, 0],\n",
       "        ...,\n",
       "        [0, 0, 0, ..., 0, 0, 0],\n",
       "        [0, 0, 0, ..., 0, 0, 0],\n",
       "        [0, 0, 0, ..., 0, 0, 0]],\n",
       "\n",
       "       [[0, 0, 0, ..., 0, 0, 0],\n",
       "        [0, 0, 0, ..., 0, 0, 0],\n",
       "        [0, 0, 0, ..., 0, 0, 0],\n",
       "        ...,\n",
       "        [0, 0, 0, ..., 0, 0, 0],\n",
       "        [0, 0, 0, ..., 0, 0, 0],\n",
       "        [0, 0, 0, ..., 0, 0, 0]],\n",
       "\n",
       "       [[0, 0, 0, ..., 0, 0, 0],\n",
       "        [0, 0, 0, ..., 0, 0, 0],\n",
       "        [0, 0, 0, ..., 0, 0, 0],\n",
       "        ...,\n",
       "        [0, 0, 0, ..., 0, 0, 0],\n",
       "        [0, 0, 0, ..., 0, 0, 0],\n",
       "        [0, 0, 0, ..., 0, 0, 0]],\n",
       "\n",
       "       [[0, 0, 0, ..., 0, 0, 0],\n",
       "        [0, 0, 0, ..., 0, 0, 0],\n",
       "        [0, 0, 0, ..., 0, 0, 0],\n",
       "        ...,\n",
       "        [0, 0, 0, ..., 0, 0, 0],\n",
       "        [0, 0, 0, ..., 0, 0, 0],\n",
       "        [0, 0, 0, ..., 0, 0, 0]]], dtype=uint8)</pre></div></li><li class='xr-var-item'><div class='xr-var-name'><span>water_persistence</span></div><div class='xr-var-dims'>(time, y, x)</div><div class='xr-var-dtype'>uint8</div><div class='xr-var-preview xr-preview'>0 0 0 0 0 0 0 0 ... 0 0 0 0 0 0 0 0</div><input id='attrs-7086b4ca-1b52-41ac-85b3-fb77e9f9345e' class='xr-var-attrs-in' type='checkbox' ><label for='attrs-7086b4ca-1b52-41ac-85b3-fb77e9f9345e' title='Show/Hide attributes'><svg class='icon xr-icon-file-text2'><use xlink:href='#icon-file-text2'></use></svg></label><input id='data-1f60dd13-9dc7-4196-adec-6b3a47c11728' class='xr-var-data-in' type='checkbox'><label for='data-1f60dd13-9dc7-4196-adec-6b3a47c11728' title='Show/Hide data repr'><svg class='icon xr-icon-database'><use xlink:href='#icon-database'></use></svg></label><div class='xr-var-attrs'><dl class='xr-attrs'><dt><span>units :</span></dt><dd>1</dd><dt><span>nodata :</span></dt><dd>0</dd><dt><span>crs :</span></dt><dd>EPSG:3577</dd><dt><span>grid_mapping :</span></dt><dd>spatial_ref</dd></dl></div><div class='xr-var-data'><pre>array([[[0, 0, 0, ..., 1, 1, 1],\n",
       "        [0, 0, 0, ..., 1, 1, 1],\n",
       "        [0, 0, 0, ..., 1, 1, 1],\n",
       "        ...,\n",
       "        [0, 0, 0, ..., 0, 0, 0],\n",
       "        [0, 0, 0, ..., 0, 0, 0],\n",
       "        [0, 0, 0, ..., 0, 0, 0]],\n",
       "\n",
       "       [[0, 0, 0, ..., 1, 1, 1],\n",
       "        [0, 0, 0, ..., 1, 1, 1],\n",
       "        [0, 0, 0, ..., 1, 1, 1],\n",
       "        ...,\n",
       "        [1, 1, 1, ..., 0, 0, 0],\n",
       "        [1, 1, 1, ..., 0, 0, 0],\n",
       "        [1, 1, 1, ..., 0, 0, 0]],\n",
       "\n",
       "       [[0, 0, 0, ..., 1, 1, 1],\n",
       "        [0, 0, 0, ..., 1, 1, 1],\n",
       "        [0, 0, 0, ..., 1, 1, 1],\n",
       "        ...,\n",
       "        [1, 1, 1, ..., 0, 0, 0],\n",
       "        [1, 1, 1, ..., 0, 0, 0],\n",
       "        [1, 1, 1, ..., 0, 0, 0]],\n",
       "\n",
       "       [[0, 0, 0, ..., 1, 1, 1],\n",
       "        [0, 0, 0, ..., 1, 1, 1],\n",
       "        [0, 0, 0, ..., 1, 1, 1],\n",
       "        ...,\n",
       "        [1, 1, 1, ..., 0, 0, 0],\n",
       "        [1, 1, 1, ..., 0, 0, 0],\n",
       "        [1, 1, 1, ..., 0, 0, 0]]], dtype=uint8)</pre></div></li><li class='xr-var-item'><div class='xr-var-name'><span>bare_gradation</span></div><div class='xr-var-dims'>(time, y, x)</div><div class='xr-var-dtype'>uint8</div><div class='xr-var-preview xr-preview'>0 0 0 0 0 0 0 0 ... 0 0 0 0 0 0 0 0</div><input id='attrs-012e3279-4bfc-4f4b-a1a2-7e95e9d75abf' class='xr-var-attrs-in' type='checkbox' ><label for='attrs-012e3279-4bfc-4f4b-a1a2-7e95e9d75abf' title='Show/Hide attributes'><svg class='icon xr-icon-file-text2'><use xlink:href='#icon-file-text2'></use></svg></label><input id='data-3fb5bf84-e0a1-46fa-81ba-51d55ec97a70' class='xr-var-data-in' type='checkbox'><label for='data-3fb5bf84-e0a1-46fa-81ba-51d55ec97a70' title='Show/Hide data repr'><svg class='icon xr-icon-database'><use xlink:href='#icon-database'></use></svg></label><div class='xr-var-attrs'><dl class='xr-attrs'><dt><span>units :</span></dt><dd>1</dd><dt><span>nodata :</span></dt><dd>0</dd><dt><span>crs :</span></dt><dd>EPSG:3577</dd><dt><span>grid_mapping :</span></dt><dd>spatial_ref</dd></dl></div><div class='xr-var-data'><pre>array([[[0, 0, 0, ..., 0, 0, 0],\n",
       "        [0, 0, 0, ..., 0, 0, 0],\n",
       "        [0, 0, 0, ..., 0, 0, 0],\n",
       "        ...,\n",
       "        [0, 0, 0, ..., 0, 0, 0],\n",
       "        [0, 0, 0, ..., 0, 0, 0],\n",
       "        [0, 0, 0, ..., 0, 0, 0]],\n",
       "\n",
       "       [[0, 0, 0, ..., 0, 0, 0],\n",
       "        [0, 0, 0, ..., 0, 0, 0],\n",
       "        [0, 0, 0, ..., 0, 0, 0],\n",
       "        ...,\n",
       "        [0, 0, 0, ..., 0, 0, 0],\n",
       "        [0, 0, 0, ..., 0, 0, 0],\n",
       "        [0, 0, 0, ..., 0, 0, 0]],\n",
       "\n",
       "       [[0, 0, 0, ..., 0, 0, 0],\n",
       "        [0, 0, 0, ..., 0, 0, 0],\n",
       "        [0, 0, 0, ..., 0, 0, 0],\n",
       "        ...,\n",
       "        [0, 0, 0, ..., 0, 0, 0],\n",
       "        [0, 0, 0, ..., 0, 0, 0],\n",
       "        [0, 0, 0, ..., 0, 0, 0]],\n",
       "\n",
       "       [[0, 0, 0, ..., 0, 0, 0],\n",
       "        [0, 0, 0, ..., 0, 0, 0],\n",
       "        [0, 0, 0, ..., 0, 0, 0],\n",
       "        ...,\n",
       "        [0, 0, 0, ..., 0, 0, 0],\n",
       "        [0, 0, 0, ..., 0, 0, 0],\n",
       "        [0, 0, 0, ..., 0, 0, 0]]], dtype=uint8)</pre></div></li><li class='xr-var-item'><div class='xr-var-name'><span>full_classification</span></div><div class='xr-var-dims'>(time, y, x)</div><div class='xr-var-dtype'>uint8</div><div class='xr-var-preview xr-preview'>34 16 34 34 16 ... 14 14 14 14 14</div><input id='attrs-8242be6e-229b-4aeb-bf31-6f0bf7f35a61' class='xr-var-attrs-in' type='checkbox' ><label for='attrs-8242be6e-229b-4aeb-bf31-6f0bf7f35a61' title='Show/Hide attributes'><svg class='icon xr-icon-file-text2'><use xlink:href='#icon-file-text2'></use></svg></label><input id='data-a09d668e-bdec-493e-9460-01c8b65a61ff' class='xr-var-data-in' type='checkbox'><label for='data-a09d668e-bdec-493e-9460-01c8b65a61ff' title='Show/Hide data repr'><svg class='icon xr-icon-database'><use xlink:href='#icon-database'></use></svg></label><div class='xr-var-attrs'><dl class='xr-attrs'><dt><span>units :</span></dt><dd>1</dd><dt><span>nodata :</span></dt><dd>0</dd><dt><span>crs :</span></dt><dd>EPSG:3577</dd><dt><span>grid_mapping :</span></dt><dd>spatial_ref</dd></dl></div><div class='xr-var-data'><pre>array([[[ 34,  16,  34, ..., 101, 101, 101],\n",
       "        [ 34,  34,  34, ..., 101, 101, 101],\n",
       "        [ 34,  34,  34, ..., 101, 101, 101],\n",
       "        ...,\n",
       "        [  0,   0,   0, ...,  14,  14,  14],\n",
       "        [  0,   0,   0, ...,  14,  14,  14],\n",
       "        [  0,   0,   0, ...,  14,  14,  14]],\n",
       "\n",
       "       [[ 34,  34,  34, ..., 101, 101, 101],\n",
       "        [ 34,  34,  34, ..., 101, 101, 101],\n",
       "        [ 34,  34,  34, ..., 101, 101, 101],\n",
       "        ...,\n",
       "        [101, 101, 101, ...,  14,  14,  14],\n",
       "        [101, 101, 101, ...,  15,  15,  15],\n",
       "        [101, 101, 101, ...,  14,  15,  15]],\n",
       "\n",
       "       [[ 34,  34,  34, ..., 101, 101, 101],\n",
       "        [ 34,  34,  34, ..., 101, 101, 101],\n",
       "        [ 34,  34,  34, ..., 101, 101, 101],\n",
       "        ...,\n",
       "        [101, 101, 101, ...,  14,  14,  14],\n",
       "        [101, 101, 101, ...,  14,  14,  14],\n",
       "        [101, 101, 101, ...,  14,  14,  14]],\n",
       "\n",
       "       [[ 16,  34,  34, ..., 101, 101, 101],\n",
       "        [ 34,  34,  34, ..., 101, 101, 101],\n",
       "        [ 34,  34,  34, ..., 101, 101, 101],\n",
       "        ...,\n",
       "        [101, 101, 101, ...,  14,  14,  14],\n",
       "        [101, 101, 101, ...,  14,  14,  14],\n",
       "        [101, 101, 101, ...,  14,  14,  14]]], dtype=uint8)</pre></div></li></ul></div></li><li class='xr-section-item'><input id='section-66f8d2f7-f8a8-4bac-8d5b-51c9c9eb5155' class='xr-section-summary-in' type='checkbox'  checked><label for='section-66f8d2f7-f8a8-4bac-8d5b-51c9c9eb5155' class='xr-section-summary' >Attributes: <span>(2)</span></label><div class='xr-section-inline-details'></div><div class='xr-section-details'><dl class='xr-attrs'><dt><span>crs :</span></dt><dd>EPSG:3577</dd><dt><span>grid_mapping :</span></dt><dd>spatial_ref</dd></dl></div></li></ul></div></div>"
      ],
      "text/plain": [
       "<xarray.Dataset>\n",
       "Dimensions:              (time: 4, y: 1523, x: 1340)\n",
       "Coordinates:\n",
       "  * time                 (time) datetime64[ns] 1997-01-01 ... 2000-01-01\n",
       "  * y                    (y) float64 -3.882e+06 -3.883e+06 ... -3.921e+06\n",
       "  * x                    (x) float64 6.25e+05 6.25e+05 ... 6.585e+05 6.585e+05\n",
       "    spatial_ref          int32 3577\n",
       "Data variables:\n",
       "    level3               (time, y, x) uint8 112 111 112 112 ... 111 111 111 111\n",
       "    lifeform             (time, y, x) uint8 2 2 2 2 2 2 2 2 ... 2 2 2 2 2 2 2 2\n",
       "    vegetation_cover     (time, y, x) uint8 13 13 13 13 13 13 ... 10 10 10 10 10\n",
       "    water_seasonality    (time, y, x) uint8 0 0 0 0 0 0 0 0 ... 0 0 0 0 0 0 0 0\n",
       "    water_state          (time, y, x) uint8 0 0 0 0 0 0 0 0 ... 0 0 0 0 0 0 0 0\n",
       "    intertidal           (time, y, x) uint8 0 0 0 0 0 0 0 0 ... 0 0 0 0 0 0 0 0\n",
       "    water_persistence    (time, y, x) uint8 0 0 0 0 0 0 0 0 ... 0 0 0 0 0 0 0 0\n",
       "    bare_gradation       (time, y, x) uint8 0 0 0 0 0 0 0 0 ... 0 0 0 0 0 0 0 0\n",
       "    full_classification  (time, y, x) uint8 34 16 34 34 16 34 ... 14 14 14 14 14\n",
       "Attributes:\n",
       "    crs:           EPSG:3577\n",
       "    grid_mapping:  spatial_ref"
      ]
     },
     "execution_count": 216,
     "metadata": {},
     "output_type": "execute_result"
    }
   ],
   "source": [
    "# Create the 'query' dictionary object, which contains the longitudes, latitudes and time defined above\n",
    "query = {\n",
    "    \"y\": lat_range,\n",
    "    \"x\": lon_range,\n",
    "    \"time\": time_range,\n",
    "}\n",
    "\n",
    "# Load DEA Land Cover data from the datacube\n",
    "# Some areas beyond the land have no data and this leads to an empty object being returned\n",
    "# this needs a try-catch statements so that we know when this has occured e.g. at the \n",
    "# edge of the bounding box\n",
    "\n",
    "lc = dc.load(\n",
    "    product=\"ga_ls_landcover_class_cyear_2\",\n",
    "    output_crs=\"EPSG:3577\",\n",
    "    measurements=[\n",
    "        \"level3\",\n",
    "        \"lifeform\",\n",
    "        \"vegetation_cover\",\n",
    "        \"water_seasonality\",\n",
    "        \"water_state\",\n",
    "        \"intertidal\",\n",
    "        \"water_persistence\",\n",
    "        \"bare_gradation\",\n",
    "        \"full_classification\",\n",
    "    ],\n",
    "    resolution=(-25, 25),\n",
    "    **query\n",
    ")\n",
    "\n",
    "lc"
   ]
  },
  {
   "cell_type": "markdown",
   "id": "15810ea0-9e3b-42b9-9573-d4d24e82b6dc",
   "metadata": {},
   "source": [
    "We can review the data by using the `plot_land_cover()` function."
   ]
  },
  {
   "cell_type": "code",
   "execution_count": 220,
   "id": "e43101f4-b134-40a8-9aa6-351a6ecafe4a",
   "metadata": {},
   "outputs": [
    {
     "data": {
      "text/plain": [
       "<matplotlib.image.AxesImage at 0x7f625b5c9ee0>"
      ]
     },
     "execution_count": 220,
     "metadata": {},
     "output_type": "execute_result"
    },
    {
     "data": {
      "image/png": "[encoded data removed]",
      "text/plain": [
       "<Figure size 1080x306.873 with 5 Axes>"
      ]
     },
     "metadata": {
      "needs_background": "light"
     },
     "output_type": "display_data"
    }
   ],
   "source": [
    "#     measurements=[\n",
    "#         \"level3\", -  temporal\n",
    "#         \"lifeform\", Herbaceous, Woody or No Data - temporal\n",
    "#         \"vegetation_cover\", -  temporal\n",
    "#         \"water_seasonality\", * no data?? - \n",
    "#         \"water_state\", # binary: just water and no water -  temporal\n",
    "#         \"intertidal\", # binary: just tidal and not tidal - temporal\n",
    "#         \"water_persistence\", # months of water cover - temporal\n",
    "#         \"bare_gradation\", # percentage bare - temporal\n",
    "#         \"full_classification\", - temporal\n",
    "#     ],\n",
    "\n",
    "plot_land_cover(lc.level3)\n",
    "# lc_animation(lc.level3)"
   ]
  },
  {
   "cell_type": "markdown",
   "id": "36040411-5784-4c93-be72-0a2d87269432",
   "metadata": {
    "tags": []
   },
   "source": [
    "## Plotting change maps"
   ]
  },
  {
   "cell_type": "markdown",
   "id": "b502b59a-03a2-40fb-8161-577f6beab36f",
   "metadata": {},
   "source": [
    "### Level 3 change maps \n",
    "\n",
    "In this section, we will create a plot that shows if a pixel changed class or remained the same between 2 discrete years. \n",
    "In this example, we are using 2010 and 2020."
   ]
  },
  {
   "cell_type": "code",
   "execution_count": 221,
   "id": "386f2217-6b46-4de1-b05d-a7b2dd28cab6",
   "metadata": {},
   "outputs": [],
   "source": [
    "# Select start and end dates for comparison (change to int32 to ensure we can hold number of 6 digits)\n",
    "start = lc.level3[0].astype(np.int32)\n",
    "end = lc.level3[-1].astype(np.int32)\n",
    "\n",
    "# Mark if you want to ignore no change\n",
    "ignore_no_change = True"
   ]
  },
  {
   "cell_type": "code",
   "execution_count": 222,
   "id": "340508ef-87b9-485c-8c8c-58f33c44fa7b",
   "metadata": {},
   "outputs": [],
   "source": [
    "# Combine classifications from start and end dates\n",
    "change_vals = (start * 1000) + end\n",
    "\n",
    "# Mask out values with no change by setting to 0 if this is requested\n",
    "if ignore_no_change:\n",
    "    change_vals = np.where(start == end, 0, change_vals)"
   ]
  },
  {
   "cell_type": "code",
   "execution_count": 223,
   "id": "a8bf3558-4cae-4a9e-9196-24566e87ab1d",
   "metadata": {},
   "outputs": [],
   "source": [
    "level_3 = lc.level3[0].drop_vars(\"time\")"
   ]
  },
  {
   "cell_type": "code",
   "execution_count": 224,
   "id": "f567934e-fb18-4193-bdbe-94b5a3936d31",
   "metadata": {},
   "outputs": [],
   "source": [
    "# Create a new Xarray.DataArray\n",
    "change = xr.DataArray(\n",
    "    data=change_vals,\n",
    "    coords=level_3.coords,\n",
    "    dims=level_3.dims,\n",
    "    name=\"change\",\n",
    "    attrs=level_3.attrs,\n",
    "    fastpath=False,\n",
    ")"
   ]
  },
  {
   "cell_type": "code",
   "execution_count": 225,
   "id": "d6c234ef-0358-4638-8c78-6c2640e3ce77",
   "metadata": {},
   "outputs": [],
   "source": [
    "# Get colour map for image\n",
    "cmap, norm = lc_colourmap('level3_change_colour_scheme')"
   ]
  },
  {
   "cell_type": "code",
   "execution_count": 226,
   "id": "0ef46137-de65-4782-9046-bdcb9c82d446",
   "metadata": {},
   "outputs": [
    {
     "data": {
      "image/png": "[encoded data removed]",
      "text/plain": [
       "<Figure size 504x504 with 2 Axes>"
      ]
     },
     "metadata": {
      "needs_background": "light"
     },
     "output_type": "display_data"
    }
   ],
   "source": [
    "# Create figure with subplot and set size in inches\n",
    "fig, ax = plt.subplots()\n",
    "fig.set_size_inches(7, 7)\n",
    "\n",
    "make_colorbar(fig, ax, measurement='level3_change_colour_scheme')\n",
    "\n",
    "# Plot change data\n",
    "img = ax.imshow(change, cmap=cmap, norm=norm, interpolation=\"nearest\")"
   ]
  },
  {
   "cell_type": "markdown",
   "id": "206085fa-80fe-4592-9907-a674b59e3131",
   "metadata": {
    "tags": []
   },
   "source": [
    "### Layer descriptor change maps \n",
    "\n",
    "In this section, we will plot two change maps using natural terrestrial vegetation (NTV) data and artificial surface (AS) data. \n",
    "Similar to above, we will use 2010 and 2020 data. "
   ]
  },
  {
   "cell_type": "markdown",
   "id": "5f766f95-1b03-4723-af29-4fc5900bc3f1",
   "metadata": {},
   "source": [
    "#### Natural terrestrial vegetation change"
   ]
  },
  {
   "cell_type": "code",
   "execution_count": 184,
   "id": "804e00fc-766e-4b4d-b181-b0852a18c041",
   "metadata": {},
   "outputs": [],
   "source": [
    "# Make a mask of 1 for all increasing NTV that is anything going from another class to NTV\n",
    "NTV_increase = np.where(\n",
    "    (\n",
    "        (change == 111112)\n",
    "        | (change == 124112)\n",
    "        | (change == 215112)\n",
    "        | (change == 216112)\n",
    "        | (change == 220112)\n",
    "    ),\n",
    "    1,\n",
    "    0,\n",
    ")"
   ]
  },
  {
   "cell_type": "code",
   "execution_count": 185,
   "id": "73da0fa4-9b5c-41f3-9e4a-2a5e0b27c0e8",
   "metadata": {},
   "outputs": [],
   "source": [
    "# Make a mask of -1 for all decreasing NTV that is anything going from NTV to another class\n",
    "NTV_decrease = np.where(\n",
    "    (\n",
    "        (change == 112111)\n",
    "        | (change == 112124)\n",
    "        | (change == 112215)\n",
    "        | (change == 112216)\n",
    "        | (change == 112220)\n",
    "    ),\n",
    "    -1,\n",
    "    0,\n",
    ")"
   ]
  },
  {
   "cell_type": "code",
   "execution_count": 186,
   "id": "7a78a589-1d5b-414e-ad79-7f115d75e585",
   "metadata": {},
   "outputs": [],
   "source": [
    "NTV_change = NTV_increase + NTV_decrease"
   ]
  },
  {
   "cell_type": "code",
   "execution_count": 187,
   "id": "69e3ea62-8ea2-4295-9ca0-cccbcc7b0d45",
   "metadata": {},
   "outputs": [],
   "source": [
    "# Create a new Xarray.DataArray\n",
    "xr_ntvchange = xr.DataArray(\n",
    "    data=NTV_change,\n",
    "    coords=change.coords,\n",
    "    dims=change.dims,\n",
    "    name=\"ntv_change\",\n",
    "    attrs=None,\n",
    "    indexes=change.indexes,\n",
    "    fastpath=False,\n",
    ")"
   ]
  },
  {
   "cell_type": "markdown",
   "id": "7cb4fabb-afb9-4928-bffc-5f99ee9bd60c",
   "metadata": {},
   "source": [
    "The next cell plots the NTV change map, where red represents NTV loss and blue represents NTV gain."
   ]
  },
  {
   "cell_type": "code",
   "execution_count": 188,
   "id": "e5ca7a73-aacd-4d16-83ca-f715cbc8c7ac",
   "metadata": {},
   "outputs": [
    {
     "data": {
      "text/plain": [
       "<matplotlib.image.AxesImage at 0x7f166f935e20>"
      ]
     },
     "execution_count": 188,
     "metadata": {},
     "output_type": "execute_result"
    },
    {
     "data": {
      "image/png": "[encoded data removed]",
      "text/plain": [
       "<Figure size 432x288 with 2 Axes>"
      ]
     },
     "metadata": {
      "needs_background": "light"
     },
     "output_type": "display_data"
    }
   ],
   "source": [
    "xr_ntvchange.plot.imshow(cmap=\"bwr_r\")"
   ]
  },
  {
   "cell_type": "markdown",
   "id": "d9ab1b53-b619-48fc-89d3-4b5f7a36d89a",
   "metadata": {},
   "source": [
    "#### Urban expansion"
   ]
  },
  {
   "cell_type": "code",
   "execution_count": 189,
   "id": "9d12e53d-aab4-4860-a221-4162fc7c5f25",
   "metadata": {
    "tags": []
   },
   "outputs": [],
   "source": [
    "# Make a mask of 1 for all areas which became AS\n",
    "AS_increase = np.where(\n",
    "    (\n",
    "        (change == 111215)\n",
    "        | (change == 112215)\n",
    "        | (change == 124215)\n",
    "        | (change == 216215)\n",
    "        | (change == 220215)\n",
    "    ),\n",
    "    1,\n",
    "    0,\n",
    ")"
   ]
  },
  {
   "cell_type": "code",
   "execution_count": 190,
   "id": "7308cc0e-6d82-4e9d-bc70-946c403154b7",
   "metadata": {
    "tags": []
   },
   "outputs": [],
   "source": [
    "# Make a mask of -1 for all areas which changed from being AS to something else\n",
    "AS_decrease = np.where(\n",
    "    (\n",
    "        (change == 215111)\n",
    "        | (change == 215112)\n",
    "        | (change == 215124)\n",
    "        | (change == 215216)\n",
    "        | (change == 215220)\n",
    "    ),\n",
    "    -1,\n",
    "    0,\n",
    ")"
   ]
  },
  {
   "cell_type": "code",
   "execution_count": 191,
   "id": "061f961c-d28a-4727-a4ca-538ec621084b",
   "metadata": {},
   "outputs": [],
   "source": [
    "AS_change = AS_increase + AS_decrease"
   ]
  },
  {
   "cell_type": "code",
   "execution_count": 192,
   "id": "8cc09dd7-0751-4e10-9490-d2046dc8c603",
   "metadata": {},
   "outputs": [],
   "source": [
    "# Create a new Xarray.DataArray\n",
    "xr_aschange = xr.DataArray(\n",
    "    data=AS_change,\n",
    "    coords=change.coords,\n",
    "    dims=change.dims,\n",
    "    name=\"as_change\",\n",
    "    attrs=None,\n",
    "    indexes=change.indexes,\n",
    "    fastpath=False,\n",
    ")"
   ]
  },
  {
   "cell_type": "markdown",
   "id": "f6689538-c059-4ce0-a9e7-dd58909a8795",
   "metadata": {},
   "source": [
    "The next cell plots the artificial surface change map, where blue represents artificial surface loss and pink represents artificial surface gain."
   ]
  },
  {
   "cell_type": "code",
   "execution_count": 193,
   "id": "93ad937b-e47e-4023-a4ae-510ffc2dae1c",
   "metadata": {},
   "outputs": [
    {
     "data": {
      "text/plain": [
       "<matplotlib.image.AxesImage at 0x7f165d73fee0>"
      ]
     },
     "execution_count": 193,
     "metadata": {},
     "output_type": "execute_result"
    },
    {
     "data": {
      "image/png": "[encoded data removed]",
      "text/plain": [
       "<Figure size 432x288 with 2 Axes>"
      ]
     },
     "metadata": {
      "needs_background": "light"
     },
     "output_type": "display_data"
    }
   ],
   "source": [
    "cmap = mcolours.ListedColormap([\"b\", \"white\", \"lightpink\"])\n",
    "xr_aschange.plot.imshow(cmap=cmap)"
   ]
  },
  {
   "cell_type": "markdown",
   "id": "3aeefe93-bde9-4326-8511-20a8b5c6ea30",
   "metadata": {},
   "source": [
    "***\n",
    "\n",
    "## Additional information\n",
    "\n",
    "**License:** The code in this notebook is licensed under the [Apache License, Version 2.0](https://www.apache.org/licenses/LICENSE-2.0). \n",
    "Digital Earth Australia data is licensed under the [Creative Commons by Attribution 4.0](https://creativecommons.org/licenses/by/4.0/) license.\n",
    "\n",
    "**Contact:** If you need assistance, please post a question on the [Open Data Cube Slack channel](http://slack.opendatacube.org/) or on the [GIS Stack Exchange](https://gis.stackexchange.com/questions/ask?tags=open-data-cube) using the `open-data-cube` tag (you can view previously asked questions [here](https://gis.stackexchange.com/questions/tagged/open-data-cube)).\n",
    "If you would like to report an issue with this notebook, you can file one on [Github](https://github.com/GeoscienceAustralia/dea-notebooks).\n",
    "\n",
    "**Last modified:** February 2022\n",
    "\n",
    "**Compatible datacube version:** "
   ]
  },
  {
   "cell_type": "code",
   "execution_count": null,
   "id": "c8d81e0d-6c04-48de-ba0e-42ead7670ed5",
   "metadata": {},
   "outputs": [
    {
     "name": "stdout",
     "output_type": "stream",
     "text": [
      "1.8.6\n"
     ]
    }
   ],
   "source": [
    "print(datacube.__version__)"
   ]
  },
  {
   "cell_type": "markdown",
   "id": "2cd5142e-235a-4546-ab8d-7cf4d2591665",
   "metadata": {},
   "source": [
    "## Tags\n",
    "Browse all available tags on the DEA User Guide's [Tags Index](https://docs.dea.ga.gov.au/genindex.html)"
   ]
  },
  {
   "cell_type": "raw",
   "id": "8bf2e2ba-392e-432f-87a9-4476aaed4b52",
   "metadata": {},
   "source": [
    "**Tags**: :index:`sandbox compatible`, :index:`landsat 5`, :index:`landsat 7`, :index:`landsat 8`, \n",
    ":index:`DEA Land Cover`, :index:`time series`, :index: `LCCS`, :index:`colour maps`, :index:`data visualisation`"
   ]
  }
 ],
 "metadata": {
  "kernelspec": {
   "display_name": "Python 3 (ipykernel)",
   "language": "python",
   "name": "python3"
  },
  "language_info": {
   "codemirror_mode": {
    "name": "ipython",
    "version": 3
   },
   "file_extension": ".py",
   "mimetype": "text/x-python",
   "name": "python",
   "nbconvert_exporter": "python",
   "pygments_lexer": "ipython3",
   "version": "3.8.10"
  },
  "widgets": {
   "application/vnd.jupyter.widget-state+json": {
    "state": {},
    "version_major": 2,
    "version_minor": 0
   }
  }
 },
 "nbformat": 4,
 "nbformat_minor": 5
}
